{
 "cells": [
  {
   "cell_type": "code",
   "execution_count": 5,
   "metadata": {
    "collapsed": false
   },
   "outputs": [
    {
     "name": "stdout",
     "output_type": "stream",
     "text": [
      "6040\n",
      "3952\n"
     ]
    }
   ],
   "source": [
    "%matplotlib inline\n",
    "import matplotlib.pyplot as plt\n",
    "import numpy as np\n",
    "import scipy as sc\n",
    "import scipy.linalg as la\n",
    "import pandas as pd\n",
    "\n",
    "rnames = ['user_id', 'movie_id', 'rating', 'timestamp'] \n",
    "ratings = pd.read_table('../data/ml-1m/ratings.dat', sep='::', header=None, names=rnames, engine='python')\n",
    "\n",
    "#ratings.set_index(['user_id', 'movie_id'], inplace=True)\n",
    "#sampleRatings = ratings.loc[(ratings.index.get_level_values('user_id') < 20) & (ratings.index.get_level_values('movie_id') < 10)]\n",
    "\n",
    "userM = np.matrix(ratings.user_id).T\n",
    "movieM = np.matrix(ratings.movie_id).T\n",
    "ratingM = np.matrix(ratings.rating).T\n",
    "\n",
    "userLength = np.hstack(set(ratings['user_id']))[-1]\n",
    "movieLength = np.hstack(set(ratings['movie_id']))[-1]\n",
    "\n",
    "print(userLength)\n",
    "print(movieLength)"
   ]
  },
  {
   "cell_type": "code",
   "execution_count": 6,
   "metadata": {
    "collapsed": false
   },
   "outputs": [
    {
     "name": "stdout",
     "output_type": "stream",
     "text": [
      "1000209\n"
     ]
    }
   ],
   "source": [
    "userStart = np.matrix([0]*(userLength+1)).T \n",
    "movieStart = np.matrix([0]*(movieLength+1)) \n",
    "Y = userStart*movieStart\n",
    "M = Y\n",
    "Ys = np.hstack([ratingM,userM,movieM])\n",
    "Ysize = Ys.shape[0]\n",
    "\n",
    "print(Ysize)"
   ]
  },
  {
   "cell_type": "code",
   "execution_count": 7,
   "metadata": {
    "collapsed": false
   },
   "outputs": [
    {
     "name": "stdout",
     "output_type": "stream",
     "text": [
      "[[ 0.84626833]\n",
      " [ 0.9872221 ]\n",
      " [ 0.22185477]\n",
      " ..., \n",
      " [ 0.34443454]\n",
      " [ 0.58512562]\n",
      " [ 0.50454149]]\n",
      "[[ 0.37426938  0.30373777  0.77936544 ...,  0.2526617   0.00838285\n",
      "   0.90113159]]\n"
     ]
    }
   ],
   "source": [
    "A = np.mat(np.random.rand(userLength+1, 1))\n",
    "B = np.mat(np.random.rand(1, movieLength+1))\n",
    "\n",
    "EPOCH = 5\n",
    "Eta = 0.1\n",
    "eta = Eta\n",
    "\n",
    "print(A)\n",
    "print(B)"
   ]
  },
  {
   "cell_type": "code",
   "execution_count": null,
   "metadata": {
    "collapsed": false
   },
   "outputs": [],
   "source": [
    "for i in range(EPOCH):\n",
    "    E = np.array(M)*np.array(Y - A*B)\n",
    "    Err = np.sum(E*E)/np.sum(np.array(M))\n",
    "    if i%10==0:\n",
    "        print(Err)\n",
    "    \n",
    "    for k in range(Ysize):\n",
    "        u = Ys[k,1]\n",
    "        m = Ys[k,2]\n",
    "        \n",
    "        err = Ys[k,0] - A[u,:]*B[:,m]\n",
    "        \n",
    "        temp_A = A[u,:] + eta*err[0,0]*B[:,m].T\n",
    "        B[:,m]   = B[:,m] + eta*err[0,0]*A[u,:].T\n",
    "        A[u,:]   = temp_A\n",
    "    \n",
    "    eta = Eta*1./(i+1)\n",
    "    \n",
    "print(\"success\")"
   ]
  },
  {
   "cell_type": "code",
   "execution_count": null,
   "metadata": {
    "collapsed": true
   },
   "outputs": [],
   "source": [
    "res = A*B\n",
    "for j in range (20):\n",
    "    \n",
    "    userResult = [(0,0)]\n",
    "    for m in range (movieLength):\n",
    "        movieTuple = (res[j,m],m)\n",
    "        userResult.append(movieTuple)\n",
    "        \n",
    "    userResult = sorted(userResult, key=lambda tup: tup[0], reverse=True)     \n",
    "    \n",
    "    print(\"Movie for user \" , j , \" : \")\n",
    "    for n in range(1):\n",
    "        print (userResult[n])"
   ]
  },
  {
   "cell_type": "code",
   "execution_count": null,
   "metadata": {
    "collapsed": true
   },
   "outputs": [],
   "source": []
  }
 ],
 "metadata": {
  "kernelspec": {
   "display_name": "Python 3",
   "language": "python",
   "name": "python3"
  },
  "language_info": {
   "codemirror_mode": {
    "name": "ipython",
    "version": 3
   },
   "file_extension": ".py",
   "mimetype": "text/x-python",
   "name": "python",
   "nbconvert_exporter": "python",
   "pygments_lexer": "ipython3",
   "version": "3.5.1"
  }
 },
 "nbformat": 4,
 "nbformat_minor": 0
}
